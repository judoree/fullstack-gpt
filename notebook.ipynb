{
 "cells": [
  {
   "cell_type": "code",
   "execution_count": 6,
   "metadata": {},
   "outputs": [
    {
     "name": "stderr",
     "output_type": "stream",
     "text": [
      "Retrying langchain.chat_models.openai.ChatOpenAI.completion_with_retry.<locals>._completion_with_retry in 4.0 seconds as it raised RateLimitError: You exceeded your current quota, please check your plan and billing details. For more information on this error, read the docs: https://platform.openai.com/docs/guides/error-codes/api-errors..\n"
     ]
    },
    {
     "data": {
      "text/plain": [
       "'The distance between South Korea and Thailand is approximately 2,500 kilometers (1,553 miles) when measured in a straight line.'"
      ]
     },
     "execution_count": 6,
     "metadata": {},
     "output_type": "execute_result"
    }
   ],
   "source": [
    "from langchain.chat_models import ChatOpenAI , ChatAnthropic\n",
    "from langchain.prompts import PromptTemplate , ChatPromptTemplate\n",
    "\n",
    "chat = ChatOpenAI(\n",
    "    temperature=0.1\n",
    ")\n",
    "\n",
    "template = PromptTemplate.from_template(\"What is the distance between {country_a} and {country_b}\")\n",
    "\n",
    "prompt =template.format(country_a = \"Korea\", country_b = \"Thailend\")\n",
    "\n",
    "chat.predict(prompt)\n"
   ]
  },
  {
   "cell_type": "code",
   "execution_count": 8,
   "metadata": {},
   "outputs": [
    {
     "data": {
      "text/plain": [
       "[SystemMessage(content='You are a geography expert. And you only reply in Korean'),\n",
       " AIMessage(content='Ciao , mi chiamo JH!'),\n",
       " HumanMessage(content='What is the distance between Korea and Thailand . Also , what is your name?')]"
      ]
     },
     "execution_count": 8,
     "metadata": {},
     "output_type": "execute_result"
    }
   ],
   "source": [
    "\n",
    "template = ChatPromptTemplate.from_messages([\n",
    "    (\"system\" , \"You are a geography expert. And you only reply in {language}\"),\n",
    "    (\"ai\" , \"Ciao , mi chiamo {name}!\"),\n",
    "    (\"human\" , \"What is the distance between {country_a} and {country_b} . Also , what is your name?\"),\n",
    "])\n",
    "\n",
    "prompt=template.format_messages(\n",
    "    language = \"Korean\",\n",
    "    name = \"JH\",\n",
    "    country_a = \"Korea\",\n",
    "    country_b = \"Thailand\",\n",
    ")\n",
    "\n",
    "chat.predict_messages(prompt)"
   ]
  }
 ],
 "metadata": {
  "kernelspec": {
   "display_name": "env",
   "language": "python",
   "name": "python3"
  },
  "language_info": {
   "codemirror_mode": {
    "name": "ipython",
    "version": 3
   },
   "file_extension": ".py",
   "mimetype": "text/x-python",
   "name": "python",
   "nbconvert_exporter": "python",
   "pygments_lexer": "ipython3",
   "version": "3.10.6"
  }
 },
 "nbformat": 4,
 "nbformat_minor": 2
}
